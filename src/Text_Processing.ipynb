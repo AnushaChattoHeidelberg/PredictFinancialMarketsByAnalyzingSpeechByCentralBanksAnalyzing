{
 "cells": [
  {
   "cell_type": "code",
   "execution_count": 1,
   "id": "f5880fd7",
   "metadata": {},
   "outputs": [],
   "source": [
    "import pandas as pd\n",
    "from tqdm import tqdm\n",
    "tqdm.pandas()"
   ]
  },
  {
   "cell_type": "code",
   "execution_count": 2,
   "id": "81a898e9",
   "metadata": {},
   "outputs": [],
   "source": [
    "import zipfile\n",
    "zf = zipfile.ZipFile(\"../data/merged_finance.zip\")\n",
    "df = pd.read_csv(zf.open('merged_finance.csv'))"
   ]
  },
  {
   "cell_type": "code",
   "execution_count": 3,
   "id": "462bc4b1",
   "metadata": {},
   "outputs": [
    {
     "name": "stdout",
     "output_type": "stream",
     "text": [
      "             DATE                                            ARTICLE  \\\n",
      "0      2005-12-09  ['Guy Quaden: The National Bank of Belgium - a...   \n",
      "1      2009-12-07  ['Guy Quaden: A changing IMF and World Bank\\n'...   \n",
      "2      2018-12-20  ['1.\\n', '\\n', 'Central Banks and money: an ev...   \n",
      "3      2002-05-28  ['Guy Quaden: The Euro - a milestone on the pa...   \n",
      "4      2002-05-28  ['Guy Quaden: The Euro - a milestone on the pa...   \n",
      "...           ...                                                ...   \n",
      "17023  2013-08-27  ['Zeti Akhtar Aziz: Grow your business – acces...   \n",
      "17024  2010-01-28  ['Mohd Razif bin Abd Kadir: Islamic finance an...   \n",
      "17025  2017-05-26  ['Encik Abdul Rasheed Ghaffour: Revolutionisin...   \n",
      "17026  2014-05-07  ['Zeti Akhtar Aziz: Nurturing young talent in ...   \n",
      "17027  2005-09-23  ['Datuk Zamani Abdul Ghani: Role of developmen...   \n",
      "\n",
      "       Diff_VIX_1d  Diff_VIX_1w  Diff_VIX_2w   OPEN   HIGH    LOW  CLOSE  \n",
      "0            11.69          NaN          NaN  11.91  12.20  11.56  11.69  \n",
      "1            22.10          NaN          NaN  22.32  22.46  21.60  22.10  \n",
      "2            28.38          NaN          NaN  26.03  30.30  25.35  28.38  \n",
      "3            20.31          NaN          NaN  20.21  20.77  20.07  20.31  \n",
      "4            20.31          NaN          NaN  20.21  20.77  20.07  20.31  \n",
      "...            ...          ...          ...    ...    ...    ...    ...  \n",
      "17023        16.77          NaN          NaN  16.56  17.13  15.82  16.77  \n",
      "17024        23.73          NaN          NaN  22.79  25.30  22.69  23.73  \n",
      "17025         9.81          NaN          NaN   9.93  10.48   9.65   9.81  \n",
      "17026        13.40          NaN          NaN  13.64  14.49  13.39  13.40  \n",
      "17027        12.96          NaN          NaN  13.64  13.88  12.75  12.96  \n",
      "\n",
      "[17028 rows x 9 columns]\n"
     ]
    }
   ],
   "source": [
    "print(df)"
   ]
  },
  {
   "cell_type": "code",
   "execution_count": 27,
   "id": "d2939c20",
   "metadata": {},
   "outputs": [
    {
     "data": {
      "text/html": [
       "<div>\n",
       "<style scoped>\n",
       "    .dataframe tbody tr th:only-of-type {\n",
       "        vertical-align: middle;\n",
       "    }\n",
       "\n",
       "    .dataframe tbody tr th {\n",
       "        vertical-align: top;\n",
       "    }\n",
       "\n",
       "    .dataframe thead th {\n",
       "        text-align: right;\n",
       "    }\n",
       "</style>\n",
       "<table border=\"1\" class=\"dataframe\">\n",
       "  <thead>\n",
       "    <tr style=\"text-align: right;\">\n",
       "      <th></th>\n",
       "      <th>ARTICLE</th>\n",
       "      <th>VIX_1day</th>\n",
       "    </tr>\n",
       "  </thead>\n",
       "  <tbody>\n",
       "    <tr>\n",
       "      <th>0</th>\n",
       "      <td>Guy Quaden The National Bank of Belgium   a c...</td>\n",
       "      <td>11.69</td>\n",
       "    </tr>\n",
       "    <tr>\n",
       "      <th>1</th>\n",
       "      <td>Guy Quaden A changing IMF and World Bank   Sp...</td>\n",
       "      <td>22.10</td>\n",
       "    </tr>\n",
       "    <tr>\n",
       "      <th>2</th>\n",
       "      <td>Central Banks and money an everchanging...</td>\n",
       "      <td>28.38</td>\n",
       "    </tr>\n",
       "    <tr>\n",
       "      <th>3</th>\n",
       "      <td>Guy Quaden The Euro   a milestone on the path...</td>\n",
       "      <td>20.31</td>\n",
       "    </tr>\n",
       "    <tr>\n",
       "      <th>4</th>\n",
       "      <td>Guy Quaden The Euro   a milestone on the path...</td>\n",
       "      <td>20.31</td>\n",
       "    </tr>\n",
       "    <tr>\n",
       "      <th>...</th>\n",
       "      <td>...</td>\n",
       "      <td>...</td>\n",
       "    </tr>\n",
       "    <tr>\n",
       "      <th>17023</th>\n",
       "      <td>Zeti Akhtar Aziz Grow your business – access ...</td>\n",
       "      <td>16.77</td>\n",
       "    </tr>\n",
       "    <tr>\n",
       "      <th>17024</th>\n",
       "      <td>Mohd Razif bin Abd Kadir Islamic finance and ...</td>\n",
       "      <td>23.73</td>\n",
       "    </tr>\n",
       "    <tr>\n",
       "      <th>17025</th>\n",
       "      <td>Encik Abdul Rasheed Ghaffour Revolutionising ...</td>\n",
       "      <td>9.81</td>\n",
       "    </tr>\n",
       "    <tr>\n",
       "      <th>17026</th>\n",
       "      <td>Zeti Akhtar Aziz Nurturing young talent in Ma...</td>\n",
       "      <td>13.40</td>\n",
       "    </tr>\n",
       "    <tr>\n",
       "      <th>17027</th>\n",
       "      <td>Datuk Zamani Abdul Ghani Role of development ...</td>\n",
       "      <td>12.96</td>\n",
       "    </tr>\n",
       "  </tbody>\n",
       "</table>\n",
       "<p>17028 rows × 2 columns</p>\n",
       "</div>"
      ],
      "text/plain": [
       "                                                 ARTICLE  VIX_1day\n",
       "0       Guy Quaden The National Bank of Belgium   a c...     11.69\n",
       "1       Guy Quaden A changing IMF and World Bank   Sp...     22.10\n",
       "2             Central Banks and money an everchanging...     28.38\n",
       "3       Guy Quaden The Euro   a milestone on the path...     20.31\n",
       "4       Guy Quaden The Euro   a milestone on the path...     20.31\n",
       "...                                                  ...       ...\n",
       "17023   Zeti Akhtar Aziz Grow your business – access ...     16.77\n",
       "17024   Mohd Razif bin Abd Kadir Islamic finance and ...     23.73\n",
       "17025   Encik Abdul Rasheed Ghaffour Revolutionising ...      9.81\n",
       "17026   Zeti Akhtar Aziz Nurturing young talent in Ma...     13.40\n",
       "17027   Datuk Zamani Abdul Ghani Role of development ...     12.96\n",
       "\n",
       "[17028 rows x 2 columns]"
      ]
     },
     "execution_count": 27,
     "metadata": {},
     "output_type": "execute_result"
    }
   ],
   "source": [
    "df.drop(columns = [\"DATE\", \"Diff_VIX_1w\", \"Diff_VIX_2w\", \"OPEN\", \"HIGH\", \"LOW\", \"CLOSE\"])"
   ]
  },
  {
   "cell_type": "code",
   "execution_count": 28,
   "id": "f01656a4",
   "metadata": {},
   "outputs": [],
   "source": [
    "df.rename(columns={\"Diff_VIX_1d\": \"VIX_1day\"}, inplace=True)"
   ]
  },
  {
   "cell_type": "code",
   "execution_count": 29,
   "id": "0394bf79",
   "metadata": {},
   "outputs": [],
   "source": [
    "df[\"ARTICLE\"].replace(to_replace=[r\"\\\\t|\\\\n|\\\\r\", \"\\t|\\n|\\r\"], value=[\"\",\"\"], regex=True, inplace=True)"
   ]
  },
  {
   "cell_type": "code",
   "execution_count": 30,
   "id": "96b0b593",
   "metadata": {},
   "outputs": [
    {
     "ename": "SyntaxError",
     "evalue": "invalid syntax (2229217927.py, line 8)",
     "output_type": "error",
     "traceback": [
      "\u001b[1;36m  File \u001b[1;32m\"C:\\Users\\shrut\\AppData\\Local\\Temp\\ipykernel_177948\\2229217927.py\"\u001b[1;36m, line \u001b[1;32m8\u001b[0m\n\u001b[1;33m    for punct in 'â€–?!.,â€™\"#$%\\Ã©'()*+-/:;<=>@[\\\\]^_`{|}~' + '“”’':\u001b[0m\n\u001b[1;37m                                         ^\u001b[0m\n\u001b[1;31mSyntaxError\u001b[0m\u001b[1;31m:\u001b[0m invalid syntax\n"
     ]
    }
   ],
   "source": [
    "def clean_text(x):\n",
    "\n",
    "    x = str(x)\n",
    "    for punct in \"/-'\":\n",
    "        x = x.replace(punct, ' ')\n",
    "    for punct in '&':\n",
    "        x = x.replace(punct, f' {punct} ')\n",
    "    for punct in 'â€–?!.,â€™\"#$%\\Ã©'()*+-/:;<=>@[\\\\]^_`{|}~' + '“”’':\n",
    "        x = x.replace(punct, '')\n",
    "    return x"
   ]
  },
  {
   "cell_type": "code",
   "execution_count": 31,
   "id": "56182143",
   "metadata": {},
   "outputs": [
    {
     "name": "stderr",
     "output_type": "stream",
     "text": [
      "100%|██████████████████████████████████████████████████████████████████████████| 17028/17028 [00:10<00:00, 1631.75it/s]\n"
     ]
    }
   ],
   "source": [
    "df[\"ARTICLE\"] = df[\"ARTICLE\"].progress_apply(lambda x: clean_text(x))\n",
    "sentences = df[\"ARTICLE\"].apply(lambda x: x.split())"
   ]
  },
  {
   "cell_type": "code",
   "execution_count": 32,
   "id": "6c7a6f77",
   "metadata": {},
   "outputs": [],
   "source": [
    "import re\n",
    "# define regular expressions for numbers and links\n",
    "num_regex = r'\\d+' # matches one or more digits\n",
    "link_regex = r'https?://\\S+' # matches http or https followed by any non-space characters\n",
    "\n",
    "# remove numbers and links from the text column\n",
    "df['ARTICLE'] = df['ARTICLE'].apply(lambda x: re.sub(num_regex, '', x)) \n",
    "df['ARTICLE'] = df['ARTICLE'].apply(lambda x: re.sub(link_regex, '', x)) "
   ]
  },
  {
   "cell_type": "code",
   "execution_count": 33,
   "id": "16c76710",
   "metadata": {},
   "outputs": [
    {
     "name": "stdout",
     "output_type": "stream",
     "text": [
      "URLs have been successfully removed\n",
      "0         Guy Quaden The National Bank of Belgium   a c...\n",
      "1         Guy Quaden A changing IMF and World Bank   Sp...\n",
      "2               Central Banks and money an everchanging...\n",
      "3         Guy Quaden The Euro   a milestone on the path...\n",
      "4         Guy Quaden The Euro   a milestone on the path...\n",
      "                               ...                        \n",
      "17023     Zeti Akhtar Aziz Grow your business – access ...\n",
      "17024     Mohd Razif bin Abd Kadir Islamic finance and ...\n",
      "17025     Encik Abdul Rasheed Ghaffour Revolutionising ...\n",
      "17026     Zeti Akhtar Aziz Nurturing young talent in Ma...\n",
      "17027     Datuk Zamani Abdul Ghani Role of development ...\n",
      "Name: ARTICLE, Length: 17028, dtype: object\n"
     ]
    }
   ],
   "source": [
    "if 'http' not in df['ARTICLE'].values and 'https' not in df['ARTICLE'].values:\n",
    "    print('URLs have been successfully removed')\n",
    "else:\n",
    "    print('URLs have not been removed')\n",
    "print(df[\"ARTICLE\"])"
   ]
  },
  {
   "cell_type": "code",
   "execution_count": 34,
   "id": "be5eb49c",
   "metadata": {},
   "outputs": [],
   "source": [
    "def build_vocab(sentences, verbose =  True):\n",
    "    \"\"\"\n",
    "    :param sentences: list of list of words\n",
    "    :return: dictionary of words and their count\n",
    "    \"\"\"\n",
    "    vocab = {}\n",
    "    for sentence in tqdm(sentences, disable = (not verbose)):\n",
    "        for word in sentence:\n",
    "            try:\n",
    "                vocab[word] += 1\n",
    "            except KeyError:\n",
    "                vocab[word] = 1\n",
    "    return vocab"
   ]
  },
  {
   "cell_type": "code",
   "execution_count": 35,
   "id": "71b583c0",
   "metadata": {},
   "outputs": [
    {
     "name": "stderr",
     "output_type": "stream",
     "text": [
      "100%|██████████████████████████████████████████████████████████████████████████| 17028/17028 [00:08<00:00, 2053.31it/s]\n",
      "100%|███████████████████████████████████████████████████████████████████████████| 17028/17028 [00:17<00:00, 948.68it/s]"
     ]
    },
    {
     "name": "stdout",
     "output_type": "stream",
     "text": [
      "{'Guy': 263, 'Quaden': 86, 'The': 314637, 'National': 10497, 'Bank': 114746}\n"
     ]
    },
    {
     "name": "stderr",
     "output_type": "stream",
     "text": [
      "\n"
     ]
    }
   ],
   "source": [
    "sentences = df[\"ARTICLE\"].progress_apply(lambda x: x.split()).values\n",
    "vocab = build_vocab(sentences)\n",
    "print({k: vocab[k] for k in list(vocab)[:5]})"
   ]
  },
  {
   "cell_type": "code",
   "execution_count": 36,
   "id": "9e6ddc30",
   "metadata": {},
   "outputs": [],
   "source": [
    "from gensim.models import KeyedVectors\n",
    "\n",
    "news_path = '../../../Embeddings/GoogleNews-vectors-negative300.bin'\n",
    "embeddings_index = KeyedVectors.load_word2vec_format(news_path, binary=True)"
   ]
  },
  {
   "cell_type": "code",
   "execution_count": 37,
   "id": "af1cae8e",
   "metadata": {},
   "outputs": [],
   "source": [
    "import operator\n",
    "\n",
    "def check_coverage(vocab,embeddings_index):\n",
    "    a = {}\n",
    "    oov = {}\n",
    "    k = 0\n",
    "    i = 0\n",
    "    for word in tqdm(vocab):\n",
    "        try:\n",
    "            a[word] = embeddings_index[word]\n",
    "            k += vocab[word]\n",
    "        except:\n",
    "\n",
    "            oov[word] = vocab[word]\n",
    "            i += vocab[word]\n",
    "            pass\n",
    "\n",
    "    print('Found embeddings for {:.2%} of vocab'.format(len(a) / len(vocab)))\n",
    "    print('Found embeddings for  {:.2%} of all text'.format(k / (k + i)))\n",
    "    sorted_x = sorted(oov.items(), key=operator.itemgetter(1))[::-1]\n",
    "    \n",
    "    return sorted_x"
   ]
  },
  {
   "cell_type": "code",
   "execution_count": 38,
   "id": "eb587fbb",
   "metadata": {},
   "outputs": [
    {
     "name": "stderr",
     "output_type": "stream",
     "text": [
      "100%|██████████████████████████████████████████████████████████████████████| 157607/157607 [00:00<00:00, 207924.63it/s]\n"
     ]
    },
    {
     "name": "stdout",
     "output_type": "stream",
     "text": [
      "Found embeddings for 60.94% of vocab\n",
      "Found embeddings for  87.74% of all text\n"
     ]
    }
   ],
   "source": [
    "oov = check_coverage(vocab,embeddings_index)"
   ]
  },
  {
   "cell_type": "code",
   "execution_count": 39,
   "id": "c2f9d0d0",
   "metadata": {},
   "outputs": [
    {
     "data": {
      "text/plain": [
       "[('of', 1794157),\n",
       " ('to', 1419874),\n",
       " ('and', 1373320),\n",
       " ('a', 783284),\n",
       " ('–', 113772),\n",
       " ('labour', 19189),\n",
       " ('programme', 7113),\n",
       " ('behaviour', 5858),\n",
       " ('ufb', 5425),\n",
       " ('favourable', 4868)]"
      ]
     },
     "execution_count": 39,
     "metadata": {},
     "output_type": "execute_result"
    }
   ],
   "source": [
    "oov[:10]"
   ]
  },
  {
   "cell_type": "code",
   "execution_count": 40,
   "id": "1b5e6c17",
   "metadata": {},
   "outputs": [
    {
     "name": "stderr",
     "output_type": "stream",
     "text": [
      "100%|██████████████████████████████████████████████████████████████████████████| 17028/17028 [00:15<00:00, 1071.79it/s]\n",
      "100%|██████████████████████████████████████████████████████████████████████████| 17028/17028 [00:14<00:00, 1163.34it/s]\n",
      "100%|███████████████████████████████████████████████████████████████████████████| 17028/17028 [00:18<00:00, 933.47it/s]\n"
     ]
    }
   ],
   "source": [
    "sentences = df[\"ARTICLE\"].progress_apply(lambda x: x.split())\n",
    "to_remove = ['a','to','of','and']\n",
    "sentences = [[word for word in sentence if not word in to_remove] for sentence in tqdm(sentences)]\n",
    "vocab = build_vocab(sentences)"
   ]
  },
  {
   "cell_type": "code",
   "execution_count": 41,
   "id": "fb46b870",
   "metadata": {},
   "outputs": [
    {
     "name": "stderr",
     "output_type": "stream",
     "text": [
      "100%|██████████████████████████████████████████████████████████████████████| 157603/157603 [00:00<00:00, 254297.59it/s]\n"
     ]
    },
    {
     "name": "stdout",
     "output_type": "stream",
     "text": [
      "Found embeddings for 60.95% of vocab\n",
      "Found embeddings for  98.79% of all text\n"
     ]
    }
   ],
   "source": [
    "oov = check_coverage(vocab,embeddings_index)"
   ]
  },
  {
   "cell_type": "code",
   "execution_count": 42,
   "id": "be55b26f",
   "metadata": {},
   "outputs": [
    {
     "data": {
      "text/plain": [
       "[('–', 113772),\n",
       " ('labour', 19189),\n",
       " ('programme', 7113),\n",
       " ('behaviour', 5858),\n",
       " ('ufb', 5425),\n",
       " ('favourable', 4868),\n",
       " ('xcThe', 4136),\n",
       " ('globalisation', 4110),\n",
       " ('centre', 3197),\n",
       " ('wwwbankofenglandcouk', 3184),\n",
       " ('programmes', 2845),\n",
       " ('utilisation', 2689),\n",
       " ('COVID', 2445),\n",
       " ('Brexit', 2334),\n",
       " ('liberalisation', 2266),\n",
       " ('analyses', 2250),\n",
       " ('QQE', 2134),\n",
       " ('Riksbanks', 2050),\n",
       " ('recognised', 2010),\n",
       " ('stabilisation', 1988)]"
      ]
     },
     "execution_count": 42,
     "metadata": {},
     "output_type": "execute_result"
    }
   ],
   "source": [
    "oov[:20]"
   ]
  }
 ],
 "metadata": {
  "kernelspec": {
   "display_name": "Python 3 (ipykernel)",
   "language": "python",
   "name": "python3"
  },
  "language_info": {
   "codemirror_mode": {
    "name": "ipython",
    "version": 3
   },
   "file_extension": ".py",
   "mimetype": "text/x-python",
   "name": "python",
   "nbconvert_exporter": "python",
   "pygments_lexer": "ipython3",
   "version": "3.9.13"
  }
 },
 "nbformat": 4,
 "nbformat_minor": 5
}
